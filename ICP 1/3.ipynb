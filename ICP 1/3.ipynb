{
  "nbformat": 4,
  "nbformat_minor": 0,
  "metadata": {
    "colab": {
      "provenance": []
    },
    "kernelspec": {
      "name": "python3",
      "display_name": "Python 3"
    },
    "language_info": {
      "name": "python"
    }
  },
  "cells": [
    {
      "cell_type": "markdown",
      "source": [
        "#Defining a list"
      ],
      "metadata": {
        "id": "e2Nk7Rpar1PC"
      }
    },
    {
      "cell_type": "code",
      "execution_count": null,
      "metadata": {
        "id": "EnVnuc5Arv0V"
      },
      "outputs": [],
      "source": [
        "heightList = []"
      ]
    },
    {
      "cell_type": "markdown",
      "source": [
        "#taking input from user for number of customers"
      ],
      "metadata": {
        "id": "cdja70AwsB9s"
      }
    },
    {
      "cell_type": "code",
      "source": [
        "noOfCustomers = int(input(\"Enter number of customers : \"))"
      ],
      "metadata": {
        "colab": {
          "base_uri": "https://localhost:8080/"
        },
        "id": "Bwf-tOyfsEcH",
        "outputId": "8811e770-3679-465b-ba74-dd53cbc50cdf"
      },
      "execution_count": null,
      "outputs": [
        {
          "name": "stdout",
          "output_type": "stream",
          "text": [
            "Enter number of customers : 4\n"
          ]
        }
      ]
    },
    {
      "cell_type": "markdown",
      "source": [
        "#for loop to take input and append to list"
      ],
      "metadata": {
        "id": "WXsI3FeDsLla"
      }
    },
    {
      "cell_type": "code",
      "source": [
        "for i in range(0, noOfCustomers):\n",
        "    h = float(input())\n",
        "    heightList.append(h)"
      ],
      "metadata": {
        "colab": {
          "base_uri": "https://localhost:8080/"
        },
        "id": "pchIScqEsPDl",
        "outputId": "2e26f06e-fc11-40ea-bea5-110a3f6c1f0b"
      },
      "execution_count": null,
      "outputs": [
        {
          "name": "stdout",
          "output_type": "stream",
          "text": [
            "150\n",
            "155\n",
            "145\n",
            "148\n"
          ]
        }
      ]
    },
    {
      "cell_type": "markdown",
      "source": [
        "#converting inches to cms and appending to a list"
      ],
      "metadata": {
        "id": "loM-2dWdsf_B"
      }
    },
    {
      "cell_type": "code",
      "source": [
        "newlist = [x*2.54 for x in heightList]"
      ],
      "metadata": {
        "id": "LxoJTte1sjmN"
      },
      "execution_count": null,
      "outputs": []
    },
    {
      "cell_type": "markdown",
      "source": [
        "#printing the new list"
      ],
      "metadata": {
        "id": "NhKB8LsWsnKK"
      }
    },
    {
      "cell_type": "code",
      "source": [
        "print(newlist)"
      ],
      "metadata": {
        "colab": {
          "base_uri": "https://localhost:8080/"
        },
        "id": "J4j2w3NgspWb",
        "outputId": "a86c0fda-88bc-47bd-d4d6-a416d11a4312"
      },
      "execution_count": null,
      "outputs": [
        {
          "output_type": "stream",
          "name": "stdout",
          "text": [
            "[381.0, 393.7, 368.3, 375.92]\n"
          ]
        }
      ]
    }
  ]
}