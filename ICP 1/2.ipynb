{
  "cells": [
    {
      "cell_type": "markdown",
      "source": [
        "#defining a empty string"
      ],
      "metadata": {
        "id": "ELYtrWLFiTno"
      }
    },
    {
      "cell_type": "code",
      "source": [
        "st = \"\""
      ],
      "metadata": {
        "id": "UlSzLRbDhdSQ"
      },
      "execution_count": 1,
      "outputs": []
    },
    {
      "cell_type": "markdown",
      "source": [
        "#defining a function to count occurances of each word"
      ],
      "metadata": {
        "id": "61jQ58N0ifXV"
      }
    },
    {
      "cell_type": "code",
      "source": [
        "def wordcount(st):\n",
        "    counts = dict()\n",
        "    w = st.split()\n",
        "    for y in w:\n",
        "        if y in counts:\n",
        "            counts[y]+=1\n",
        "        else:\n",
        "            counts[y]=1\n",
        "    return counts"
      ],
      "metadata": {
        "id": "oRxUKn5BimQN"
      },
      "execution_count": 2,
      "outputs": []
    },
    {
      "cell_type": "markdown",
      "source": [
        "#reading input.txt file and adding it to st variable"
      ],
      "metadata": {
        "id": "1nWJfVc3jR04"
      }
    },
    {
      "cell_type": "code",
      "source": [
        "with open('/content/sample_data/ICP 1/input.txt','r') as file:\n",
        "    data = file.read()\n",
        "    st +=data"
      ],
      "metadata": {
        "id": "L-faRm3bjfrK"
      },
      "execution_count": 8,
      "outputs": []
    },
    {
      "cell_type": "markdown",
      "source": [
        "#calling wordcount function"
      ],
      "metadata": {
        "id": "i_6nN8-HjxWr"
      }
    },
    {
      "cell_type": "code",
      "source": [
        "a=str(wordcount(st))\n",
        "st+=\"\\nWord_Count: \\n\"\n",
        "st+=a"
      ],
      "metadata": {
        "id": "4Lmj0vb0j1Ik"
      },
      "execution_count": 6,
      "outputs": []
    },
    {
      "cell_type": "markdown",
      "source": [
        "#replacing string to get required output"
      ],
      "metadata": {
        "id": "GI35Pf0yj7My"
      }
    },
    {
      "cell_type": "code",
      "source": [
        "st = st.replace(\"{\",\"\")\n",
        "st = st.replace(\"}\",\"\")\n",
        "st = st.replace(\"'\",\"\")\n",
        "st = st.replace(\"P\",\"\\nP\")\n",
        "st = st.replace(\", \",\"\\n\")\n",
        "print(st)"
      ],
      "metadata": {
        "id": "akqbHMagj-ry",
        "outputId": "b131ba4f-cf84-4ca5-cdb4-97c0203413f7",
        "colab": {
          "base_uri": "https://localhost:8080/"
        }
      },
      "execution_count": 7,
      "outputs": [
        {
          "output_type": "stream",
          "name": "stdout",
          "text": [
            "\n",
            "Python Course\n",
            "Deep Learning Course\n",
            "Word_Count: \n",
            "\n",
            "Python: 1\n",
            "Course: 2\n",
            "Deep: 1\n",
            "Learning: 1\n"
          ]
        }
      ]
    },
    {
      "cell_type": "markdown",
      "source": [
        "#opening and writing to the file"
      ],
      "metadata": {
        "id": "91I6GXtukM7R"
      }
    },
    {
      "cell_type": "code",
      "source": [
        "outputfile = open('/content/sample_data/ICP 1/output.txt','w')\n",
        "outputfile.write(st)"
      ],
      "metadata": {
        "id": "u_1YsQ9hkN28",
        "outputId": "6114d9fb-fed6-4e6e-a527-c085bcd59852",
        "colab": {
          "base_uri": "https://localhost:8080/"
        }
      },
      "execution_count": 12,
      "outputs": [
        {
          "output_type": "execute_result",
          "data": {
            "text/plain": [
              "123"
            ]
          },
          "metadata": {},
          "execution_count": 12
        }
      ]
    },
    {
      "cell_type": "markdown",
      "source": [
        "#closing of txt files"
      ],
      "metadata": {
        "id": "oZchzDuJlTQP"
      }
    },
    {
      "cell_type": "code",
      "source": [
        "outputfile.close()\n",
        "file.close()"
      ],
      "metadata": {
        "id": "rI4K2okQlXSa"
      },
      "execution_count": 13,
      "outputs": []
    }
  ],
  "metadata": {
    "colab": {
      "name": "Welcome To Colab",
      "provenance": []
    },
    "kernelspec": {
      "display_name": "Python 3",
      "name": "python3"
    }
  },
  "nbformat": 4,
  "nbformat_minor": 0
}