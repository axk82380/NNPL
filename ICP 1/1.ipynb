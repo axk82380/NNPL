{
  "nbformat": 4,
  "nbformat_minor": 0,
  "metadata": {
    "colab": {
      "provenance": []
    },
    "kernelspec": {
      "name": "python3",
      "display_name": "Python 3"
    },
    "language_info": {
      "name": "python"
    }
  },
  "cells": [
    {
      "cell_type": "markdown",
      "source": [
        "#Function to take two strings from the user"
      ],
      "metadata": {
        "id": "EZUpUyS-olnO"
      }
    },
    {
      "cell_type": "code",
      "execution_count": 1,
      "metadata": {
        "id": "KfYd56_0oaSo"
      },
      "outputs": [],
      "source": [
        "def fullname(x,y):\n",
        "    return x+\" \"+y"
      ]
    },
    {
      "cell_type": "markdown",
      "source": [
        "#Function that returns every other char in the full_name string"
      ],
      "metadata": {
        "id": "YkyLHl3Bov9y"
      }
    },
    {
      "cell_type": "code",
      "source": [
        "def string_alternative(z):\n",
        "    return z[::2]"
      ],
      "metadata": {
        "id": "4ksM4zL-oy-1"
      },
      "execution_count": 2,
      "outputs": []
    },
    {
      "cell_type": "markdown",
      "source": [
        "# taking input and assigning to variables"
      ],
      "metadata": {
        "id": "mmMODgAao2Gb"
      }
    },
    {
      "cell_type": "code",
      "source": [
        "First_name = input(\"your first name : \")\n",
        "last_name = input(\"your last name : \")"
      ],
      "metadata": {
        "colab": {
          "base_uri": "https://localhost:8080/"
        },
        "id": "w6Czaum-o4tv",
        "outputId": "c9143906-3e9d-4934-9ae1-ad11245e0113"
      },
      "execution_count": 3,
      "outputs": [
        {
          "name": "stdout",
          "output_type": "stream",
          "text": [
            "your first name : Akhil\n",
            "your last name : Kasanagottu\n"
          ]
        }
      ]
    },
    {
      "cell_type": "markdown",
      "source": [
        "#Calling fullname function"
      ],
      "metadata": {
        "id": "zO34qOaApKmc"
      }
    },
    {
      "cell_type": "code",
      "source": [
        "Full_name= fullname(First_name,last_name)"
      ],
      "metadata": {
        "id": "HxCxV-6SpM-7"
      },
      "execution_count": 4,
      "outputs": []
    },
    {
      "cell_type": "markdown",
      "source": [
        "#Printing Full Name"
      ],
      "metadata": {
        "id": "M77XpL2YpQhq"
      }
    },
    {
      "cell_type": "code",
      "source": [
        "print(\"Full Name: \"+Full_name)"
      ],
      "metadata": {
        "colab": {
          "base_uri": "https://localhost:8080/"
        },
        "id": "Bpqip7dQpTM0",
        "outputId": "7f18bd61-ecba-45c3-c8df-81abd9a91221"
      },
      "execution_count": 5,
      "outputs": [
        {
          "output_type": "stream",
          "name": "stdout",
          "text": [
            "Full Name: Akhil Kasanagottu\n"
          ]
        }
      ]
    },
    {
      "cell_type": "markdown",
      "source": [
        "#Calling string_alternative and printing the same"
      ],
      "metadata": {
        "id": "PXKq9fsNpWsp"
      }
    },
    {
      "cell_type": "code",
      "source": [
        "print(string_alternative(Full_name))"
      ],
      "metadata": {
        "colab": {
          "base_uri": "https://localhost:8080/"
        },
        "id": "p4QVhZhHpY3Z",
        "outputId": "6de49808-04ff-4a10-d39f-6ab53ceaeb33"
      },
      "execution_count": 6,
      "outputs": [
        {
          "output_type": "stream",
          "name": "stdout",
          "text": [
            "AhlKsngtu\n"
          ]
        }
      ]
    }
  ]
}